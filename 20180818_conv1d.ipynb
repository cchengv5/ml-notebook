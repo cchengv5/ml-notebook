{
 "cells": [
  {
   "cell_type": "code",
   "execution_count": 1,
   "metadata": {},
   "outputs": [
    {
     "name": "stderr",
     "output_type": "stream",
     "text": [
      "Using TensorFlow backend.\n"
     ]
    },
    {
     "name": "stdout",
     "output_type": "stream",
     "text": [
      "[[ 0.9774127  -0.08669577 -0.30049333  0.34043875  0.6764021 ]]\n",
      "_________________________________________________________________\n",
      "Layer (type)                 Output Shape              Param #   \n",
      "=================================================================\n",
      "convolution_1d_layer (Conv1D (None, 21, 1)             6         \n",
      "_________________________________________________________________\n",
      "max_pooling_layer (MaxPoolin (None, 17, 1)             0         \n",
      "_________________________________________________________________\n",
      "reshape_layer (Flatten)      (None, 17)                0         \n",
      "_________________________________________________________________\n",
      "full_connect_layer (Dense)   (None, 5)                 90        \n",
      "=================================================================\n",
      "Total params: 96\n",
      "Trainable params: 96\n",
      "Non-trainable params: 0\n",
      "_________________________________________________________________\n",
      "None\n"
     ]
    }
   ],
   "source": [
    "import numpy as np\n",
    "import keras\n",
    "\n",
    "# 固定随机数种子以复现结果\n",
    "seed=13\n",
    "np.random.seed(seed)\n",
    "\n",
    "# 创建 1 维向量，并扩展维度适应 Keras 对输入的要求， data_1d 的大小为 (1, 25, 1)\n",
    "data_1d = np.random.normal(size=25)\n",
    "data_1d = np.expand_dims(data_1d, 0)\n",
    "data_1d = np.expand_dims(data_1d, 2)\n",
    "\n",
    "# 定义卷积层\n",
    "filters = 1 # 卷积核数量为 1\n",
    "kernel_size = 5 # 卷积核大小为 5\n",
    "convolution_1d_layer = keras.layers.convolutional.Conv1D(filters, kernel_size, strides=1, padding='valid', input_shape=(25, 1), activation=\"relu\", name=\"convolution_1d_layer\")\n",
    "\n",
    "# 定义最大化池化层\n",
    "max_pooling_layer = keras.layers.MaxPool1D(pool_size=5, strides=1, padding=\"valid\", name=\"max_pooling_layer\")\n",
    "\n",
    "# 平铺层，调整维度适应全链接层\n",
    "reshape_layer = keras.layers.core.Flatten(name=\"reshape_layer\")\n",
    "\n",
    "# 定义全链接层\n",
    "full_connect_layer = keras.layers.Dense(5, kernel_initializer=keras.initializers.RandomNormal(mean=0.0, stddev=0.1, seed=seed), bias_initializer=\"random_normal\", use_bias=True, name=\"full_connect_layer\")\n",
    "\n",
    "# 编译模型\n",
    "model = keras.Sequential()\n",
    "model.add(convolution_1d_layer)\n",
    "model.add(max_pooling_layer)\n",
    "model.add(reshape_layer)\n",
    "model.add(full_connect_layer)\n",
    "\n",
    "# 打印 full_connect_layer 层的输出\n",
    "output = keras.Model(inputs=model.input, outputs=model.get_layer('full_connect_layer').output).predict(data_1d)\n",
    "print(output)\n",
    "\n",
    "# 打印网络结构\n",
    "print(model.summary())"
   ]
  },
  {
   "cell_type": "code",
   "execution_count": null,
   "metadata": {},
   "outputs": [],
   "source": [
    "np.load"
   ]
  }
 ],
 "metadata": {
  "kernelspec": {
   "display_name": "Python 3",
   "language": "python",
   "name": "python3"
  },
  "language_info": {
   "codemirror_mode": {
    "name": "ipython",
    "version": 3
   },
   "file_extension": ".py",
   "mimetype": "text/x-python",
   "name": "python",
   "nbconvert_exporter": "python",
   "pygments_lexer": "ipython3",
   "version": "3.6.7"
  }
 },
 "nbformat": 4,
 "nbformat_minor": 2
}
